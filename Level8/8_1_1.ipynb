{
 "cells": [
  {
   "cell_type": "markdown",
   "id": "cb136b40-92fe-4d53-bbf3-7b72dfb37161",
   "metadata": {
    "tags": []
   },
   "source": [
    "# 8.1.1 Math Functions with Numpy/SciPy: Speed-Test"
   ]
  },
  {
   "cell_type": "markdown",
   "id": "85a8dc2e-c52d-4246-86d0-5b88ed6f44ca",
   "metadata": {},
   "source": [
    "######"
   ]
  },
  {
   "cell_type": "markdown",
   "id": "89db3af5-a41a-4839-bd65-217d45cd816c",
   "metadata": {},
   "source": [
    "#### Create a program that does the following:"
   ]
  },
  {
   "cell_type": "markdown",
   "id": "651f957a-9b23-4f2e-9839-b69aef14f36b",
   "metadata": {},
   "source": [
    "##### a. Create an ndarray containing 1,000,000 random numbers:"
   ]
  },
  {
   "cell_type": "code",
   "execution_count": 1,
   "id": "185a35e8-eb4f-4f3f-835c-f9a80de43e83",
   "metadata": {},
   "outputs": [
    {
     "name": "stdout",
     "output_type": "stream",
     "text": [
      "Number of elements = 1000000\n"
     ]
    }
   ],
   "source": [
    "import numpy as np\n",
    "# from Tools_Package.timer import timer, Timer\n",
    "# import random\n",
    "\n",
    "# Set Seed:\n",
    "np.random.seed(0)\n",
    "\n",
    "# Create the array\n",
    "ndarray = np.random.randint(100000000, size = 1000000) \n",
    "\n",
    "# Measure the array length\n",
    "print(f'Number of elements = {len(ndarray)}')"
   ]
  },
  {
   "cell_type": "markdown",
   "id": "450ba7ca-7694-4088-b709-16ffb0f9dc00",
   "metadata": {},
   "source": [
    "##### b. Calculate the mean, median, mode, and standard deviation of the array. Compare the time spent running mean and standard deviation, \n",
    "##### vs. the previously implemented versions (from level 1). Is there a significant speedup? Why?"
   ]
  },
  {
   "cell_type": "code",
   "execution_count": 2,
   "id": "909e3330-34fc-4656-b16e-10c54fefd34d",
   "metadata": {
    "tags": []
   },
   "outputs": [
    {
     "name": "stderr",
     "output_type": "stream",
     "text": [
      "WARNING:root:myTimer: 0.00199699 seconds.\n"
     ]
    },
    {
     "name": "stdout",
     "output_type": "stream",
     "text": [
      "\n",
      "NUMPY Summary Statistics:\n",
      "Calculated Mean: 50011868.328851\n",
      "Calculated Mean (Method 2): 50011868.328851\n",
      "Calculated Median: 49993993.5\n",
      "Calculated Mode: [(4093577, 3), (6053978, 3), (9618465, 3), (15119109, 3), (26583719, 3), (27243659, 3), (27810631, 3), (28341367, 3), (39040889, 3), (44038140, 3), (46770978, 3), (51927366, 3), (52713666, 3), (59854431, 3), (59877001, 3), (63219613, 3), (68288915, 3), (72867228, 3), (74331526, 3), (79858304, 3), (86989666, 3), (89078864, 3), (99963822, 3)]\n"
     ]
    },
    {
     "name": "stderr",
     "output_type": "stream",
     "text": [
      "WARNING:root:myTimer: 0.00855732 seconds.\n"
     ]
    },
    {
     "name": "stdout",
     "output_type": "stream",
     "text": [
      "Calculated SD: 28860092.49194118\n",
      "\n",
      "Summary Statistics (From Level 1):\n"
     ]
    },
    {
     "name": "stderr",
     "output_type": "stream",
     "text": [
      "WARNING:root:myTimer: 0.32034492 seconds.\n"
     ]
    },
    {
     "name": "stdout",
     "output_type": "stream",
     "text": [
      "Calculated Mean: 50011868.328851\n",
      "Calculated Median: 49993993.5\n",
      "Calculated Mode: [(4093577, 3), (63219613, 3), (52713666, 3), (74331526, 3), (26583719, 3), (59877001, 3), (99963822, 3), (27810631, 3), (27243659, 3), (86989666, 3), (9618465, 3), (51927366, 3), (68288915, 3), (79858304, 3), (89078864, 3), (59854431, 3), (6053978, 3), (44038140, 3), (46770978, 3), (72867228, 3), (28341367, 3), (39040889, 3), (15119109, 3)]\n",
      "\n",
      "This function calculates the variance of a passed-in list:\n"
     ]
    },
    {
     "name": "stderr",
     "output_type": "stream",
     "text": [
      "WARNING:root:myTimer: 2.59820175 seconds.\n"
     ]
    },
    {
     "name": "stdout",
     "output_type": "stream",
     "text": [
      "\n",
      "Calculated SD: 28860106.921998\n"
     ]
    }
   ],
   "source": [
    "from Tools_Package.timer import timer, Timer # Set up for comparing time taken\n",
    "import scipy.stats as spstats # for mode\n",
    "import statistics as stats\n",
    "import math as math\n",
    "\n",
    "######################################## Mode Functions ########################################\n",
    "# Mode (with ndArray)\n",
    "def freqMapNDA(values):\n",
    "    '''\n",
    "    Returns a list of 2 arrays, where array 1 = unique items and array 2 = frequency.\n",
    "    '''\n",
    "    \n",
    "    elts, frq = np.unique(values, return_counts=True) # return_counts=True: returns number of times element is repeated in the list.\n",
    "    return elts, frq\n",
    "\n",
    "def modeNDA(values):\n",
    "    '''\n",
    "    Calculates Mode (Modified for numpy)\n",
    "    '''\n",
    "    \n",
    "    elts, frq = freqMapNDA(values)\n",
    "\n",
    "    index = np.argmax((elts, frq), axis = 1) # Indices of largest values.\n",
    "    # criteria = dictFreqmap[dictFreqmap in dictFreqmapIndex]\n",
    "\n",
    "    a = np.extract(frq == max(frq), elts)\n",
    "    b = np.extract(frq == max(frq), frq)\n",
    "    \n",
    "    result = list(zip(a, b))\n",
    "    return result\n",
    "\n",
    "\n",
    "# Mode (Original Code)\n",
    "def freqMap(values):\n",
    "    map={}\n",
    "    for v in values:\n",
    "            if not map.get(v):\n",
    "                map[v] = 1\n",
    "            else:\n",
    "                map[v]=map[v]+1\n",
    "                \n",
    "    return map\n",
    "\n",
    "def mode(values):\n",
    "    dictFreqmap = freqMap(values)\n",
    "\n",
    "    # Initial Code: Does not account for Multi-modal\n",
    "    # sorted_dictFreqmap = dict(sorted(dictFreqmap.items(), key = itemgetter(1), reverse = True))\n",
    "\n",
    "    # Final Code: Accounts for multi-modal\n",
    "    maxval = max(dictFreqmap.values())\n",
    "    dictFreqmap_Final = [(a, b) for a, b in dictFreqmap.items() if b == maxval]\n",
    "\n",
    "    return dictFreqmap_Final\n",
    "######################################## Mode Functions ########################################\n",
    "\n",
    "#################################### Other Level 1 Functions ###################################\n",
    "def myAveFunction(numberList):\n",
    "    '''\n",
    "    Calculates mean\n",
    "    '''\n",
    "    \n",
    "    if not(all(type(value) != str for value in numberList)):\n",
    "        print('This function only accepts lists containing numbers.')\n",
    "    else:\n",
    "        ttl = 0.0\n",
    "        for num in numberList:\n",
    "            ttl = ttl + num\n",
    "\n",
    "        avg = ttl / len(numberList)\n",
    "        # print('Average is:' + str(avg)) -- Up to caller of the function to decide what to do with the result.\n",
    "        return avg\n",
    "\n",
    "def mystddev(numberList, dof = 1):\n",
    "    '''\n",
    "    Calculates std dev\n",
    "    '''\n",
    "    print('\\nThis function calculates the variance of a passed-in list:')\n",
    "\n",
    "    if not(all(type(value) != str for value in numberList)):\n",
    "        print('This function only accepts lists containing numbers.')\n",
    "    else:\n",
    "        average = myAveFunction(numberList)\n",
    "        numerator = 0\n",
    "        \n",
    "        for num in numberList:\n",
    "            numerator = (num - average)**2 + numerator\n",
    "\n",
    "        var = numerator / (len(numberList) - dof)\n",
    "        return math.sqrt(var)\n",
    "#################################### Other Level 1 Functions ###################################\n",
    "\n",
    "# NUMPY:\n",
    "print(f'\\nNUMPY Summary Statistics:')\n",
    "# (1) Calculate mean\n",
    "with Timer('myTimer'): # Compare time spent running mean and SD\n",
    "    print(f'Calculated Mean: {ndarray.mean()}')\n",
    "print(f'Calculated Mean (Method 2): {np.mean(ndarray)}')\n",
    "\n",
    "# (2) Calculate median\n",
    "print(f'Calculated Median: {np.median(ndarray)}') # No Method 1\n",
    "\n",
    "# (3) Calculate mode (remember an array can be multi-modal especially given the number of elts)\n",
    "## ORIGINAL APPROACH: print(f'\\nCalculated Mode: {print(spstats.mode(ndarray))}') # Uses SciPy\n",
    "## PREFERRED APPROACH: MODIFY MODE FUNCTION to optimize for numpy arrays\n",
    "print(f'Calculated Mode: {modeNDA(ndarray)}')\n",
    "\n",
    "\n",
    "# (4) Calculate standard deviation\n",
    "with Timer('myTimer'): # Compare time spent running mean and SD\n",
    "    print(f'Calculated SD: {np.std(ndarray)}') # No Method 1\n",
    "\n",
    "\n",
    "# FROM LEVEL 1:\n",
    "print(f'\\nSummary Statistics (From Level 1):')\n",
    "# (1) Calculate mean\n",
    "with Timer('myTimer'): # Compare time spent running mean and SD\n",
    "    print(f'Calculated Mean: {myAveFunction(ndarray)}')\n",
    "\n",
    "# (2) Calculate median\n",
    "print(f'Calculated Median: {stats.median(ndarray)}') # No Method 1\n",
    "\n",
    "# (3) Calculate mode (remember an array can be multi-modal especially given the number of elts)\n",
    "## ORIGINAL APPROACH: print(f'\\nCalculated Mode: {print(spstats.mode(ndarray))}') # Uses SciPy\n",
    "## PREFERRED APPROACH: MODIFY MODE FUNCTION to optimize for numpy arrays\n",
    "print(f'Calculated Mode: {mode(ndarray)}')\n",
    "\n",
    "# (4) Calculate standard deviation\n",
    "with Timer('myTimer'): # Compare time spent running mean and SD\n",
    "    print(f'\\nCalculated SD: {mystddev(ndarray)}') # No Method 1\n",
    "\n",
    "# Q. Is there a significant speedup? Why?\n",
    "# A. Yes. This is because numpy uses vectorized calculations for the math formulas which rely on C, which is much faster than native python formulas/using other packages."
   ]
  },
  {
   "cell_type": "markdown",
   "id": "a63cf3cc-961e-4ab7-a989-bc6f8f8260a0",
   "metadata": {},
   "source": [
    "##### c. Calculate the 10, 20, 30, ..., 100 quantiles of the array."
   ]
  },
  {
   "cell_type": "code",
   "execution_count": 3,
   "id": "b8cbdaab-7d94-44ae-b97c-e68680d02186",
   "metadata": {},
   "outputs": [
    {
     "name": "stdout",
     "output_type": "stream",
     "text": [
      "10th quantile of the array = 9999588.5\n",
      "20th quantile of the array = 20031686.8\n",
      "30th quantile of the array = 30040834.7\n",
      "40th quantile of the array = 40026548.60000002\n",
      "50th quantile of the array = 49993993.5\n",
      "60th quantile of the array = 60002358.0\n",
      "70th quantile of the array = 69996841.49999999\n",
      "80th quantile of the array = 79992810.80000001\n",
      "90th quantile of the array = 89978057.3\n",
      "100th quantile of the array = 99999924.0\n"
     ]
    }
   ],
   "source": [
    "for item in list(range(10, 101, 10)):\n",
    "    print(f'{item}th quantile of the array = {np.quantile(ndarray, item/100)}')"
   ]
  }
 ],
 "metadata": {
  "kernelspec": {
   "display_name": "Python 3",
   "language": "python",
   "name": "python3"
  },
  "language_info": {
   "codemirror_mode": {
    "name": "ipython",
    "version": 3
   },
   "file_extension": ".py",
   "mimetype": "text/x-python",
   "name": "python",
   "nbconvert_exporter": "python",
   "pygments_lexer": "ipython3",
   "version": "3.8.8"
  }
 },
 "nbformat": 4,
 "nbformat_minor": 5
}
