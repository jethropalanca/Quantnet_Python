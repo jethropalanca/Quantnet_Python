{
 "cells": [
  {
   "cell_type": "markdown",
   "id": "b24690fd-ea05-4a00-ab9f-a5c61312759b",
   "metadata": {},
   "source": [
    "# 8.1.2 Math Functions with Numpy/SciPy: Numpy Math Functions Showcase\n",
    "#### (compared with built-in Python counterparts):"
   ]
  },
  {
   "cell_type": "markdown",
   "id": "1404a3eb-51fc-4bce-b266-9d2ff1ac13bd",
   "metadata": {},
   "source": [
    "######"
   ]
  },
  {
   "cell_type": "code",
   "execution_count": 1,
   "id": "61f4b8c5-caed-4491-8397-62593ca0fb6f",
   "metadata": {},
   "outputs": [],
   "source": [
    "# Import\n",
    "import numpy as np\n",
    "import math as math\n",
    "import logging\n",
    "from Tools_Package.timer import timer, Timer # Set up for comparing time taken\n",
    "\n",
    "# Set Seed:\n",
    "np.random.seed(0)\n",
    "\n",
    "# Create the array\n",
    "ndarray = np.random.randint(100000000, size = 1000000)\n",
    "\n",
    "# Arrays for Sum and product\n",
    "dataNP = np.random.random(10000000)\n",
    "dataPyt = list(dataNP)"
   ]
  },
  {
   "cell_type": "markdown",
   "id": "91747276-19d2-428d-83f2-7c788441c5b7",
   "metadata": {},
   "source": [
    "## Function 1: SIN"
   ]
  },
  {
   "cell_type": "code",
   "execution_count": 2,
   "id": "955054de-c4c4-4ee1-99eb-86bc042c94d3",
   "metadata": {},
   "outputs": [
    {
     "name": "stderr",
     "output_type": "stream",
     "text": [
      "WARNING:root:myTimer: 0.06383753 seconds.\n",
      "WARNING:root:myTimer: 0.26747942 seconds.\n"
     ]
    }
   ],
   "source": [
    "# numpy\n",
    "with Timer('myTimer') as t:\n",
    "    np.sin(ndarray)\n",
    "        \n",
    "# built-in\n",
    "with Timer('myTimer') as t:\n",
    "    [math.sin(num) for num in ndarray]"
   ]
  },
  {
   "cell_type": "markdown",
   "id": "7894f946-051f-48d4-9c44-0449f9c34a1b",
   "metadata": {},
   "source": [
    "## Function 2: COS"
   ]
  },
  {
   "cell_type": "code",
   "execution_count": 3,
   "id": "9c89e52c-64de-4585-9aa6-dfeeb0412b33",
   "metadata": {},
   "outputs": [
    {
     "name": "stderr",
     "output_type": "stream",
     "text": [
      "WARNING:root:myTimer: 0.04291749 seconds.\n",
      "WARNING:root:myTimer: 0.24498272 seconds.\n"
     ]
    }
   ],
   "source": [
    "# numpy\n",
    "with Timer('myTimer') as t:\n",
    "    np.cos(ndarray)\n",
    "        \n",
    "# built-in\n",
    "with Timer('myTimer') as t:\n",
    "    [math.cos(num) for num in ndarray]"
   ]
  },
  {
   "cell_type": "markdown",
   "id": "fe1afc3b-8d45-47e3-a488-f294fe919494",
   "metadata": {},
   "source": [
    "## Function 3: SQRT"
   ]
  },
  {
   "cell_type": "code",
   "execution_count": 4,
   "id": "26e250ef-35eb-4acc-b624-0b8bfb5ddfa1",
   "metadata": {},
   "outputs": [
    {
     "name": "stderr",
     "output_type": "stream",
     "text": [
      "WARNING:root:myTimer: 0.00694704 seconds.\n",
      "WARNING:root:myTimer: 0.23041582 seconds.\n"
     ]
    }
   ],
   "source": [
    "# numpy\n",
    "with Timer('myTimer') as t:\n",
    "    np.sqrt(ndarray)\n",
    "        \n",
    "# built-in\n",
    "with Timer('myTimer') as t:\n",
    "    [math.sqrt(num) for num in ndarray]"
   ]
  },
  {
   "cell_type": "markdown",
   "id": "54fa8dec-eed9-4ab3-b0f6-866278592a47",
   "metadata": {},
   "source": [
    "## Function 4: SUM"
   ]
  },
  {
   "cell_type": "code",
   "execution_count": 5,
   "id": "94ef00dc-4e7f-498e-92e2-3bde7b598ae7",
   "metadata": {},
   "outputs": [
    {
     "name": "stdout",
     "output_type": "stream",
     "text": [
      "Numpy sum took 0.14997601509094238 seconds.\n",
      "Built-in sum took 2.875204086303711 seconds.\n"
     ]
    }
   ],
   "source": [
    "# To not show many rows of warning messages...\n",
    "logging.disable(logging.WARNING)\n",
    "\n",
    "# Initialize empty variables\n",
    "sumnumpy = 0\n",
    "sumordinary = 0\n",
    "\n",
    "for i in range(1,1000000,10000):\n",
    "# numpy    \n",
    "    with Timer('myTimer') as t1:\n",
    "        dataNP[0:i+1].sum()\n",
    "    sumnumpy = sumnumpy + t1.retrieveLastResult()\n",
    "# built-in\n",
    "    with Timer('myTimer') as t2:\n",
    "        sum(dataPyt[0:i+1])\n",
    "    sumordinary = sumordinary + t2.retrieveLastResult()\n",
    "    \n",
    "print(f'Numpy sum took {sumnumpy} seconds.')\n",
    "print(f'Built-in sum took {sumordinary} seconds.')\n",
    "\n",
    "logging.disable(logging.NOTSET) # Back to normal."
   ]
  },
  {
   "cell_type": "markdown",
   "id": "b88ec0cd-73fd-40e1-932d-fa4eef947d90",
   "metadata": {},
   "source": [
    "## Function 5: PRODUCT"
   ]
  },
  {
   "cell_type": "code",
   "execution_count": 6,
   "id": "ad825036-e445-42f3-8f75-84074912564a",
   "metadata": {},
   "outputs": [
    {
     "name": "stdout",
     "output_type": "stream",
     "text": [
      "Numpy prod took 0.06952190399169922 seconds.\n",
      "Built-in prod took 2.6468112468719482 seconds.\n"
     ]
    }
   ],
   "source": [
    "# To not show many rows of warning messages...\n",
    "logging.disable(logging.WARNING)\n",
    "\n",
    "# Initialize empty variables\n",
    "prodnumpy = 0\n",
    "prodordinary = 0\n",
    "\n",
    "for i in range(1,1000000,10000):\n",
    "# numpy    \n",
    "    with Timer('myTimer') as t1:\n",
    "        dataNP[0:i+1].prod()\n",
    "    prodnumpy = prodnumpy + t1.retrieveLastResult()\n",
    "# built-in\n",
    "    with Timer('myTimer') as t2:\n",
    "        math.prod(dataPyt[0:i+1])\n",
    "    prodordinary = prodordinary + t2.retrieveLastResult()\n",
    "    \n",
    "print(f'Numpy prod took {prodnumpy} seconds.')\n",
    "print(f'Built-in prod took {prodordinary} seconds.')\n",
    "\n",
    "logging.disable(logging.NOTSET) # Back to normal."
   ]
  }
 ],
 "metadata": {
  "kernelspec": {
   "display_name": "Python 3",
   "language": "python",
   "name": "python3"
  },
  "language_info": {
   "codemirror_mode": {
    "name": "ipython",
    "version": 3
   },
   "file_extension": ".py",
   "mimetype": "text/x-python",
   "name": "python",
   "nbconvert_exporter": "python",
   "pygments_lexer": "ipython3",
   "version": "3.8.8"
  }
 },
 "nbformat": 4,
 "nbformat_minor": 5
}
