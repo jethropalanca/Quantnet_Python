{
 "cells": [
  {
   "cell_type": "markdown",
   "id": "7990bda4-8362-4a44-8a52-d480e7ab126f",
   "metadata": {},
   "source": [
    "# 8.1.3 Math Functions with Numpy/SciPy: Matrix Operations"
   ]
  },
  {
   "cell_type": "markdown",
   "id": "0106e620-e2f9-46f3-a343-16f2d829abdf",
   "metadata": {},
   "source": [
    "######"
   ]
  },
  {
   "cell_type": "markdown",
   "id": "6b8ace4c-d545-46d9-a4ae-1284689ef1ef",
   "metadata": {},
   "source": [
    "## I. Create two ndarrays"
   ]
  },
  {
   "cell_type": "code",
   "execution_count": 1,
   "id": "d9891fab-6e58-417c-b623-8326e32fe2f6",
   "metadata": {},
   "outputs": [],
   "source": [
    "# Create ndarrays containing 10 random number\n",
    "import numpy as np\n",
    "\n",
    "ndarray1 = np.array([[1,-24,2],[78,5,9],[12,8,49]])\n",
    "ndarray2 = np.array([[0,1,100],[1,25,61],[-2,8,1]])"
   ]
  },
  {
   "cell_type": "markdown",
   "id": "1e1bd6e0-6285-4740-9af1-c830e2ce12ba",
   "metadata": {},
   "source": [
    "## II. Calculate inner product"
   ]
  },
  {
   "cell_type": "code",
   "execution_count": 2,
   "id": "5a5c47d9-99e0-4c8d-8233-29f4e9a482f3",
   "metadata": {},
   "outputs": [
    {
     "data": {
      "text/plain": [
       "array([[ 176, -477, -192],\n",
       "       [ 905,  752, -107],\n",
       "       [4908, 3201,   89]])"
      ]
     },
     "execution_count": 2,
     "metadata": {},
     "output_type": "execute_result"
    }
   ],
   "source": [
    "np.inner(ndarray1, ndarray2)"
   ]
  },
  {
   "cell_type": "code",
   "execution_count": 3,
   "id": "a0359c41-0415-4b9f-86dc-f376a8514995",
   "metadata": {},
   "outputs": [
    {
     "data": {
      "text/plain": [
       "array([[ 176,  905, 4908],\n",
       "       [-477,  752, 3201],\n",
       "       [-192, -107,   89]])"
      ]
     },
     "execution_count": 3,
     "metadata": {},
     "output_type": "execute_result"
    }
   ],
   "source": [
    "np.inner(ndarray2, ndarray1)"
   ]
  },
  {
   "cell_type": "markdown",
   "id": "dc4b5227-7504-43d4-9ea8-644af9123d10",
   "metadata": {},
   "source": [
    "## III. Calculate outer product"
   ]
  },
  {
   "cell_type": "code",
   "execution_count": 4,
   "id": "5831f104-3cd1-4bf6-bb5a-4dee2213c479",
   "metadata": {},
   "outputs": [
    {
     "data": {
      "text/plain": [
       "array([[    0,     1,   100,     1,    25,    61,    -2,     8,     1],\n",
       "       [    0,   -24, -2400,   -24,  -600, -1464,    48,  -192,   -24],\n",
       "       [    0,     2,   200,     2,    50,   122,    -4,    16,     2],\n",
       "       [    0,    78,  7800,    78,  1950,  4758,  -156,   624,    78],\n",
       "       [    0,     5,   500,     5,   125,   305,   -10,    40,     5],\n",
       "       [    0,     9,   900,     9,   225,   549,   -18,    72,     9],\n",
       "       [    0,    12,  1200,    12,   300,   732,   -24,    96,    12],\n",
       "       [    0,     8,   800,     8,   200,   488,   -16,    64,     8],\n",
       "       [    0,    49,  4900,    49,  1225,  2989,   -98,   392,    49]])"
      ]
     },
     "execution_count": 4,
     "metadata": {},
     "output_type": "execute_result"
    }
   ],
   "source": [
    "np.outer(ndarray1, ndarray2)"
   ]
  },
  {
   "cell_type": "code",
   "execution_count": 5,
   "id": "f7b55736-8363-406a-abd8-d29b43b220a1",
   "metadata": {},
   "outputs": [
    {
     "data": {
      "text/plain": [
       "array([[    0,     0,     0,     0,     0,     0,     0,     0,     0],\n",
       "       [    1,   -24,     2,    78,     5,     9,    12,     8,    49],\n",
       "       [  100, -2400,   200,  7800,   500,   900,  1200,   800,  4900],\n",
       "       [    1,   -24,     2,    78,     5,     9,    12,     8,    49],\n",
       "       [   25,  -600,    50,  1950,   125,   225,   300,   200,  1225],\n",
       "       [   61, -1464,   122,  4758,   305,   549,   732,   488,  2989],\n",
       "       [   -2,    48,    -4,  -156,   -10,   -18,   -24,   -16,   -98],\n",
       "       [    8,  -192,    16,   624,    40,    72,    96,    64,   392],\n",
       "       [    1,   -24,     2,    78,     5,     9,    12,     8,    49]])"
      ]
     },
     "execution_count": 5,
     "metadata": {},
     "output_type": "execute_result"
    }
   ],
   "source": [
    "np.outer(ndarray2, ndarray1)"
   ]
  },
  {
   "cell_type": "markdown",
   "id": "1d42ebb2-c1a7-4973-adfc-9b8ddaed3e33",
   "metadata": {},
   "source": [
    "## IV. Calculate dot products"
   ]
  },
  {
   "cell_type": "code",
   "execution_count": 6,
   "id": "49ed6e1c-0be9-4446-acda-b346a1ef903e",
   "metadata": {},
   "outputs": [
    {
     "data": {
      "text/plain": [
       "array([[  -28,  -583, -1362],\n",
       "       [  -13,   275,  8114],\n",
       "       [  -90,   604,  1737]])"
      ]
     },
     "execution_count": 6,
     "metadata": {},
     "output_type": "execute_result"
    }
   ],
   "source": [
    "ndarray1.dot(ndarray2)"
   ]
  },
  {
   "cell_type": "code",
   "execution_count": 7,
   "id": "d3ada5ab-9315-4470-a734-d4142aa16f95",
   "metadata": {},
   "outputs": [
    {
     "data": {
      "text/plain": [
       "array([[1278,  805, 4909],\n",
       "       [2683,  589, 3216],\n",
       "       [ 634,   96,  117]])"
      ]
     },
     "execution_count": 7,
     "metadata": {},
     "output_type": "execute_result"
    }
   ],
   "source": [
    "ndarray2.dot(ndarray1)"
   ]
  },
  {
   "cell_type": "markdown",
   "id": "7e7ee3aa-50bd-459b-84be-3f63a7205d82",
   "metadata": {},
   "source": [
    "## V. Calculate the correlation matrix"
   ]
  },
  {
   "cell_type": "code",
   "execution_count": 8,
   "id": "9f2a2cd2-4974-45a6-9729-18fa2ae87b04",
   "metadata": {},
   "outputs": [
    {
     "data": {
      "text/plain": [
       "array([[ 1.        ,  0.92108658, -0.21652882],\n",
       "       [ 0.92108658,  1.        ,  0.18067901],\n",
       "       [-0.21652882,  0.18067901,  1.        ]])"
      ]
     },
     "execution_count": 8,
     "metadata": {},
     "output_type": "execute_result"
    }
   ],
   "source": [
    "np.corrcoef(ndarray2)"
   ]
  },
  {
   "cell_type": "code",
   "execution_count": 9,
   "id": "09b6bdf2-e191-4f39-8bd7-67cb6fd2bcdc",
   "metadata": {},
   "outputs": [
    {
     "data": {
      "text/plain": [
       "array([[ 1.        ,  0.51276433,  0.60210753],\n",
       "       [ 0.51276433,  1.        , -0.3767235 ],\n",
       "       [ 0.60210753, -0.3767235 ,  1.        ]])"
      ]
     },
     "execution_count": 9,
     "metadata": {},
     "output_type": "execute_result"
    }
   ],
   "source": [
    "np.corrcoef(ndarray1)"
   ]
  }
 ],
 "metadata": {
  "kernelspec": {
   "display_name": "Python 3",
   "language": "python",
   "name": "python3"
  },
  "language_info": {
   "codemirror_mode": {
    "name": "ipython",
    "version": 3
   },
   "file_extension": ".py",
   "mimetype": "text/x-python",
   "name": "python",
   "nbconvert_exporter": "python",
   "pygments_lexer": "ipython3",
   "version": "3.8.8"
  }
 },
 "nbformat": 4,
 "nbformat_minor": 5
}
