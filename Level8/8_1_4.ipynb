{
 "cells": [
  {
   "cell_type": "markdown",
   "id": "247604eb-7658-4138-8407-83408025997f",
   "metadata": {},
   "source": [
    "# 8.1.4 Math Functions with Numpy/SciPy: Matrix Operations Part 2"
   ]
  },
  {
   "cell_type": "markdown",
   "id": "5ff40835-dd44-4009-a186-9495f0cfe854",
   "metadata": {},
   "source": [
    "######"
   ]
  },
  {
   "cell_type": "markdown",
   "id": "bfca8e6d-b07b-4e7d-b80c-431d51ca8dd6",
   "metadata": {},
   "source": [
    "## I. Create two 5x5 ndarrays"
   ]
  },
  {
   "cell_type": "code",
   "execution_count": 1,
   "id": "2b68cdf4-aa6a-4e76-932b-4098cea1d85e",
   "metadata": {},
   "outputs": [],
   "source": [
    "# Create ndarrays containing 10 random number\n",
    "import numpy as np\n",
    "import scipy.linalg as linalg # For eigenvalues\n",
    "\n",
    "ndarray1 = np.array([[1,-24,2,0,5],[6,7,78,5,9],[3,11,12,8,49],[-1,2,4,67, 88],[0,-23,-88,100,0]]) # ndarray1.size = 25\n",
    "# ndarray1.size\n",
    "ndarray2 = np.array([[0,1,100,3,4],[5,1,-7,25,61],[-2,8,0,0,1],[55,66,-3,-2,99],[-100,3,4,-78,-1]]) # ndarray2.size = 25\n",
    "# ndarray2.size"
   ]
  },
  {
   "cell_type": "markdown",
   "id": "33c0aa3d-260c-48f8-b0ac-d09c9db6eb55",
   "metadata": {},
   "source": [
    "## II. Multiply the two matrices together:"
   ]
  },
  {
   "cell_type": "code",
   "execution_count": 2,
   "id": "1ca445e1-453b-4eed-8fb8-dcef4ebad277",
   "metadata": {},
   "outputs": [
    {
     "data": {
      "text/plain": [
       "array([[ -624,     8,   288,  -987, -1463],\n",
       "       [ -746,   994,   572,  -519,  1015],\n",
       "       [-4429,   785,   395, -3554,  1438],\n",
       "       [-5113,  4719,    37, -6951,  6667],\n",
       "       [ 5561,  5873,  -139,  -775,  8409]])"
      ]
     },
     "execution_count": 2,
     "metadata": {},
     "output_type": "execute_result"
    }
   ],
   "source": [
    "np.matmul(ndarray1, ndarray2)"
   ]
  },
  {
   "cell_type": "code",
   "execution_count": 3,
   "id": "6bce51ad-a4f5-4273-a87b-25ca5cc9f9a4",
   "metadata": {},
   "outputs": [
    {
     "data": {
      "text/plain": [
       "array([[  303,  1021,   938,  1406,  5173],\n",
       "       [  -35, -1543, -5264,  7724,  1891],\n",
       "       [   46,    81,   532,   140,    62],\n",
       "       [  444, -3172, -3498, 10072,   546],\n",
       "       [    8,  2332,  -142, -5279, -7141]])"
      ]
     },
     "execution_count": 3,
     "metadata": {},
     "output_type": "execute_result"
    }
   ],
   "source": [
    "np.matmul(ndarray2, ndarray1)"
   ]
  },
  {
   "cell_type": "markdown",
   "id": "cdf57294-f21b-469f-b2ef-794a98480f87",
   "metadata": {},
   "source": [
    "## III. Compute the eigenvalues of the matrices:"
   ]
  },
  {
   "cell_type": "code",
   "execution_count": 4,
   "id": "fd41ab94-b36a-45a2-b11a-f659c9a97154",
   "metadata": {},
   "outputs": [
    {
     "data": {
      "text/plain": [
       "(array([115.16962999 +0.j        ,  17.54422255+15.85688315j,\n",
       "         17.54422255-15.85688315j, -31.62903754+17.44353328j,\n",
       "        -31.62903754-17.44353328j]),\n",
       " array([[ 0.0355528 +0.j        , -0.69510363+0.j        ,\n",
       "         -0.69510363-0.j        , -0.36860455-0.23695442j,\n",
       "         -0.36860455+0.23695442j],\n",
       "        [-0.28161352+0.j        ,  0.45535906+0.4498144j ,\n",
       "          0.45535906-0.4498144j , -0.66836976+0.j        ,\n",
       "         -0.66836976-0.j        ],\n",
       "        [-0.29259956+0.j        ,  0.03008219+0.15288974j,\n",
       "          0.03008219-0.15288974j,  0.36384638-0.15185806j,\n",
       "          0.36384638+0.15185806j],\n",
       "        [-0.80930534+0.j        ,  0.12593145+0.19929169j,\n",
       "          0.12593145-0.19929169j,  0.14891003-0.25641127j,\n",
       "          0.14891003+0.25641127j],\n",
       "        [-0.42289501+0.j        , -0.12629924-0.10648219j,\n",
       "         -0.12629924+0.10648219j, -0.12160664+0.32110899j,\n",
       "         -0.12160664-0.32110899j]]))"
      ]
     },
     "execution_count": 4,
     "metadata": {},
     "output_type": "execute_result"
    }
   ],
   "source": [
    "linalg.eig(ndarray1)"
   ]
  },
  {
   "cell_type": "code",
   "execution_count": 5,
   "id": "b723018c-bded-42f1-a93a-9cf290aedc38",
   "metadata": {},
   "outputs": [
    {
     "data": {
      "text/plain": [
       "(array([ 23.14801414+82.34711841j,  23.14801414-82.34711841j,\n",
       "         -0.44860359+35.30308787j,  -0.44860359-35.30308787j,\n",
       "        -47.3988211  +0.j        ]),\n",
       " array([[ 0.00167438+4.67600043e-02j,  0.00167438-4.67600043e-02j,\n",
       "         -0.36889457+4.20462144e-02j, -0.36889457-4.20462144e-02j,\n",
       "          0.26148662+0.00000000e+00j],\n",
       "        [-0.43329574-7.89160219e-05j, -0.43329574+7.89160219e-05j,\n",
       "          0.55069548-1.58381113e-01j,  0.55069548+1.58381113e-01j,\n",
       "          0.70462168+0.00000000e+00j],\n",
       "        [-0.01824882+3.55918433e-02j, -0.01824882-3.55918433e-02j,\n",
       "         -0.03148514-1.40949951e-01j, -0.03148514+1.40949951e-01j,\n",
       "         -0.1000295 +0.00000000e+00j],\n",
       "        [-0.67307843+0.00000000e+00j, -0.67307843-0.00000000e+00j,\n",
       "          0.63066182+0.00000000e+00j,  0.63066182-0.00000000e+00j,\n",
       "         -0.53498312+0.00000000e+00j],\n",
       "        [ 0.11640501-5.84705911e-01j,  0.11640501+5.84705911e-01j,\n",
       "         -0.15326009+3.02849206e-01j, -0.15326009-3.02849206e-01j,\n",
       "         -0.37272   +0.00000000e+00j]]))"
      ]
     },
     "execution_count": 5,
     "metadata": {},
     "output_type": "execute_result"
    }
   ],
   "source": [
    "linalg.eig(ndarray2)"
   ]
  },
  {
   "cell_type": "markdown",
   "id": "089eb764-d955-4dc1-8b68-c28149ea3de3",
   "metadata": {},
   "source": [
    "## IV. Calculate the correlation matrix for each of the two matrices:"
   ]
  },
  {
   "cell_type": "code",
   "execution_count": 6,
   "id": "130bbc68-68d0-4be3-8134-7bfd3fa0709d",
   "metadata": {},
   "outputs": [
    {
     "data": {
      "text/plain": [
       "array([[ 1.        ,  0.24955475,  0.31483782,  0.45791366,  0.1071061 ],\n",
       "       [ 0.24955475,  1.        , -0.09814175, -0.35501869, -0.73031863],\n",
       "       [ 0.31483782, -0.09814175,  1.        ,  0.72491771, -0.06548955],\n",
       "       [ 0.45791366, -0.35501869,  0.72491771,  1.        ,  0.58317526],\n",
       "       [ 0.1071061 , -0.73031863, -0.06548955,  0.58317526,  1.        ]])"
      ]
     },
     "execution_count": 6,
     "metadata": {},
     "output_type": "execute_result"
    }
   ],
   "source": [
    "np.corrcoef(ndarray1)"
   ]
  },
  {
   "cell_type": "code",
   "execution_count": 7,
   "id": "36115c88-2b8a-4fc1-bd6a-d7549210e5e1",
   "metadata": {},
   "outputs": [
    {
     "data": {
      "text/plain": [
       "array([[ 1.        , -0.46312666, -0.20626468, -0.57387297,  0.43817271],\n",
       "       [-0.46312666,  1.        , -0.14294663,  0.55426807,  0.07044659],\n",
       "       [-0.20626468, -0.14294663,  1.        ,  0.31485409,  0.59705538],\n",
       "       [-0.57387297,  0.55426807,  0.31485409,  1.        ,  0.23761396],\n",
       "       [ 0.43817271,  0.07044659,  0.59705538,  0.23761396,  1.        ]])"
      ]
     },
     "execution_count": 7,
     "metadata": {},
     "output_type": "execute_result"
    }
   ],
   "source": [
    "np.corrcoef(ndarray2)"
   ]
  }
 ],
 "metadata": {
  "kernelspec": {
   "display_name": "Python 3",
   "language": "python",
   "name": "python3"
  },
  "language_info": {
   "codemirror_mode": {
    "name": "ipython",
    "version": 3
   },
   "file_extension": ".py",
   "mimetype": "text/x-python",
   "name": "python",
   "nbconvert_exporter": "python",
   "pygments_lexer": "ipython3",
   "version": "3.8.8"
  }
 },
 "nbformat": 4,
 "nbformat_minor": 5
}
