{
 "cells": [
  {
   "cell_type": "markdown",
   "id": "e71f4b0d-b59c-4f61-b9dc-bf639fdbc390",
   "metadata": {},
   "source": [
    "# 8.1.5 Math Functions with Numpy/SciPy: Solve the following system of linear equations."
   ]
  },
  {
   "cell_type": "markdown",
   "id": "a420254e-0bfb-4a50-a6a9-5d0c396b6cbc",
   "metadata": {},
   "source": [
    "###### "
   ]
  },
  {
   "cell_type": "markdown",
   "id": "14ec02a2-94c3-4c15-a661-af245cd8ce28",
   "metadata": {},
   "source": [
    "# Equation:\n",
    "\n",
    "##### 7𝑥 − 3𝑦 + 4𝑧 = 15\n",
    "##### −3𝑥 − 11𝑦 + 6𝑧 = 98\n",
    "##### 2𝑥 + 𝑦 − 4𝑧 = −11"
   ]
  },
  {
   "cell_type": "markdown",
   "id": "8c29ee18-6066-4eb1-9ec9-9c7358728558",
   "metadata": {},
   "source": [
    "# Solution:"
   ]
  },
  {
   "cell_type": "code",
   "execution_count": 1,
   "id": "c96e012a-214b-4f70-8ec1-9ac207722415",
   "metadata": {},
   "outputs": [
    {
     "name": "stdout",
     "output_type": "stream",
     "text": [
      "[x, y, z] = [-1.4619883  -8.57894737 -0.12573099]\n"
     ]
    }
   ],
   "source": [
    "import numpy as np\n",
    "\n",
    "coefs = np.array([[7, -3, 4], [-3, -11, 6], [2, 1, -4]])\n",
    "consts = np.array([15, 98, -11])\n",
    "soln = np.linalg.solve(coefs, consts)\n",
    "\n",
    "print(f'[x, y, z] = {soln}')"
   ]
  }
 ],
 "metadata": {
  "kernelspec": {
   "display_name": "Python 3",
   "language": "python",
   "name": "python3"
  },
  "language_info": {
   "codemirror_mode": {
    "name": "ipython",
    "version": 3
   },
   "file_extension": ".py",
   "mimetype": "text/x-python",
   "name": "python",
   "nbconvert_exporter": "python",
   "pygments_lexer": "ipython3",
   "version": "3.8.8"
  }
 },
 "nbformat": 4,
 "nbformat_minor": 5
}
