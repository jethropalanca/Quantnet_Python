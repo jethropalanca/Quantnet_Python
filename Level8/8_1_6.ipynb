{
 "cells": [
  {
   "cell_type": "markdown",
   "id": "af821720-921e-493a-a7a3-e3d0ed234ff5",
   "metadata": {},
   "source": [
    "# 8.1.6 Math Functions with Numpy/SciPy: Random Matrix"
   ]
  },
  {
   "cell_type": "markdown",
   "id": "7452f5fe-f5c2-4db1-a5ed-d4c707553d65",
   "metadata": {},
   "source": [
    "##### OBJECTIVE: Create a matrix of random numbers that have a predefined correlation.\n",
    "##### IMPORTANCE: Allows us to understand stock price movements at the portfolio level to get more complete information to value their options."
   ]
  },
  {
   "cell_type": "markdown",
   "id": "d9943a3c-1092-4077-8964-94253d244f14",
   "metadata": {},
   "source": [
    "######"
   ]
  },
  {
   "cell_type": "markdown",
   "id": "d540bac5-dac6-454a-b9f9-1e60d8bafe5d",
   "metadata": {},
   "source": [
    "## STEPS:"
   ]
  },
  {
   "cell_type": "code",
   "execution_count": 1,
   "id": "ecc77cf6-e459-424a-bd3e-5761ce192e48",
   "metadata": {},
   "outputs": [],
   "source": [
    "# Initialize\n",
    "import numpy as np\n",
    "import yfinance as yf # Try PSE (PH Stocks) Package next time by Lorenzo Ampil"
   ]
  },
  {
   "cell_type": "markdown",
   "id": "50fd67ab-6dc0-4f4c-adb2-02d662baa475",
   "metadata": {},
   "source": [
    "#### a. Pick 10 stocks from any stock exchange and get their last 10 closing prices – put these into an ndarray, and calculate the covariance matrix:"
   ]
  },
  {
   "cell_type": "code",
   "execution_count": 2,
   "id": "d3461fd9-dd2d-485d-8249-1ed91cbf163f",
   "metadata": {},
   "outputs": [
    {
     "data": {
      "text/plain": [
       "array([[ 0.10369071, -0.11729753, -0.02760867, -0.09006254, -0.02486616,\n",
       "        -0.2014214 ,  0.02567328,  0.23289175,  0.06741039,  0.21659199],\n",
       "       [-0.11729753,  1.53376087,  0.06513015,  0.27859596,  0.01295967,\n",
       "         0.97677188,  0.07345041, -0.36662075, -0.35590372, -0.17889282],\n",
       "       [-0.02760867,  0.06513015,  0.0934089 ,  0.1301244 ,  0.03669242,\n",
       "         0.23582361,  0.03998703, -0.05402357,  0.20815211, -0.09195362],\n",
       "       [-0.09006254,  0.27859596,  0.1301244 ,  0.29870433,  0.06690856,\n",
       "         0.49299393,  0.11005192, -0.29075769,  0.2737521 , -0.30164827],\n",
       "       [-0.02486616,  0.01295967,  0.03669242,  0.06690856,  0.03316119,\n",
       "         0.17478769,  0.03109696, -0.08987583,  0.04887261, -0.09724739],\n",
       "       [-0.2014214 ,  0.97677188,  0.23582361,  0.49299393,  0.17478769,\n",
       "         2.14706124,  0.28578202, -0.84642686, -0.52873045, -0.96672753],\n",
       "       [ 0.02567328,  0.07345041,  0.03998703,  0.11005192,  0.03109696,\n",
       "         0.28578202,  0.12960075, -0.07545218,  0.03028569, -0.09983936],\n",
       "       [ 0.23289175, -0.36662075, -0.05402357, -0.29075769, -0.08987583,\n",
       "        -0.84642686, -0.07545218,  0.76467799,  0.3020473 ,  0.75311392],\n",
       "       [ 0.06741039, -0.35590372,  0.20815211,  0.2737521 ,  0.04887261,\n",
       "        -0.52873045,  0.03028569,  0.3020473 ,  1.75319515,  0.24936666],\n",
       "       [ 0.21659199, -0.17889282, -0.09195362, -0.30164827, -0.09724739,\n",
       "        -0.96672753, -0.09983936,  0.75311392,  0.24936666,  0.8909806 ]])"
      ]
     },
     "execution_count": 2,
     "metadata": {},
     "output_type": "execute_result"
    }
   ],
   "source": [
    "# A. PICK STOCKS:\n",
    "\n",
    "## EXCHANGE: US (NYSE/NASDAQ)\n",
    "## Theme: Top 10 BRK.A Holdings (per Investors.com):\n",
    "## STOCKS: BAC, AAPL, KO, KHC, VZ, AXP, USB, BK, GM, KR (As of 8.2.2021).\n",
    "\n",
    "## Import:\n",
    "# (1) Bank of America\n",
    "bac = yf.Ticker(\"BAC\")\n",
    "bacData = bac.history(period=\"max\")\n",
    "\n",
    "# (2) Apple\n",
    "aapl = yf.Ticker(\"AAPL\")\n",
    "aaplData = aapl.history(period=\"max\")\n",
    "\n",
    "# (3) Coca-Cola\n",
    "ko = yf.Ticker(\"KO\")\n",
    "koData = ko.history(period=\"max\")\n",
    "\n",
    "# (4) Kraft Heinz\n",
    "khc = yf.Ticker(\"KHC\")\n",
    "khcData = khc.history(period=\"max\")\n",
    "\n",
    "# (5) Verizon\n",
    "vz = yf.Ticker(\"VZ\")\n",
    "vzData = vz.history(period=\"max\")\n",
    "\n",
    "# (6) American Express\n",
    "axp = yf.Ticker(\"AXP\")\n",
    "axpData = axp.history(period=\"max\")\n",
    "\n",
    "# (7) U.S. Bancorp\n",
    "usb = yf.Ticker(\"USB\")\n",
    "usbData = usb.history(period=\"max\")\n",
    "\n",
    "# (8) Bank of New York Mellon\n",
    "bk = yf.Ticker(\"bk\")\n",
    "bkData = bk.history(period=\"max\")\n",
    "\n",
    "# (9) General Motors \n",
    "gm = yf.Ticker(\"GM\")\n",
    "gmData = gm.history(period=\"max\")\n",
    "\n",
    "# (10) Kroger\n",
    "kr = yf.Ticker(\"KR\")\n",
    "krData = kr.history(period=\"max\")\n",
    "\n",
    "## Get Last 10 CLOSING Prices. Put these into an ndarray:\n",
    "priceSubset = np.array([bacData.Close[-10:], aaplData.Close[-10:], koData.Close[-10:], khcData.Close[-10:], vzData.Close[-10:], axpData.Close[-10:], \n",
    "                           usbData.Close[-10:], bkData.Close[-10:], gmData.Close[-10:], krData.Close[-10:]])\n",
    "\n",
    "## Calculate Covariance Matrix:\n",
    "covarMatrix = np.cov(priceSubset, bias = True)\n",
    "# covarMatrix.size. CORRECT: 10 x 10 matrix.\n",
    "\n",
    "covarMatrix"
   ]
  },
  {
   "cell_type": "markdown",
   "id": "1b9171a5-e4cb-4ee6-a2fe-4e5c71e42969",
   "metadata": {},
   "source": [
    "#### b. Use numpy.random’s multivariate_normal to create a correlated array of random numbers, based on the above covariance matrix."
   ]
  },
  {
   "cell_type": "code",
   "execution_count": 3,
   "id": "821ecaa1-0bb8-4ba1-bcb1-5c4db54cfbb2",
   "metadata": {},
   "outputs": [
    {
     "data": {
      "text/plain": [
       "array([[-0.58879352,  0.67562357,  0.48179989,  0.56280884,  0.12507948,\n",
       "         2.61324825, -0.10555045, -1.25749913, -0.79109314, -1.6613444 ],\n",
       "       [-0.55455535, -2.22026328, -0.07240931, -0.10184296,  0.10870305,\n",
       "        -1.27527661, -0.49310337, -0.80697836,  0.08827253, -0.4071846 ],\n",
       "       [-0.10402337, -1.26585956,  0.17133664,  0.47282038, -0.07717016,\n",
       "        -2.65763469, -0.34782585,  0.18896497,  4.18639264, -0.00662879],\n",
       "       [ 0.74334947,  0.96517581, -0.56041955, -1.01203794, -0.21550797,\n",
       "        -1.28637902, -0.0638381 ,  1.71069116, -0.04633287,  2.51278361],\n",
       "       [ 0.54664636, -1.16540901, -0.19652563, -0.52968294, -0.09245557,\n",
       "        -3.09124442, -0.15608577,  1.90362157,  2.10839499,  2.6214466 ],\n",
       "       [ 0.06792898, -2.0711732 , -0.23967226, -0.30248572, -0.14360206,\n",
       "        -1.53357973, -0.01673264,  0.11475231,  0.09655792,  0.23717571],\n",
       "       [ 0.12264898,  1.68534576, -0.11271415, -0.20946694, -0.133659  ,\n",
       "        -0.38932476, -0.09543257,  0.7646781 , -0.84123547,  1.59195598],\n",
       "       [ 0.00583819, -1.41738635, -0.65838765, -0.98629104, -0.16875982,\n",
       "        -0.36253449, -0.23398833, -0.52163029, -2.55916394, -0.85345214],\n",
       "       [ 0.44946581, -0.77948901, -0.12900812, -0.72466559, -0.13616207,\n",
       "        -1.01193237, -0.07049555,  1.31915633, -0.81198728,  1.05533189],\n",
       "       [-0.35290147,  0.83070295,  0.4387745 ,  0.70967355,  0.14020993,\n",
       "         1.18905012, -0.07384871, -0.55336471,  1.15314632, -0.90961701]])"
      ]
     },
     "execution_count": 3,
     "metadata": {},
     "output_type": "execute_result"
    }
   ],
   "source": [
    "# Get Mean:\n",
    "# https://quantnet.com/threads/8-1-6-b-mean-to-use-for-multivariate_normal.46435/ ... Any approach (either means of stock prices / 0's) is fine. I choose to use zeroes.\n",
    "mean = np.array([0, 0, 0, 0, 0, 0, 0, 0, 0, 0])  # Calculate means closing price of each stocks, pass to a list then convert to an array. One mean per stock.\n",
    "# means.size. Correct\n",
    "\n",
    "# Get Matrix:\n",
    "covarMatrix # from above\n",
    "\n",
    "# Randomize possible variances. Number of elements for each stock = number of stock prices:\n",
    "lenCov =  10\n",
    "\n",
    "# Calculate:\n",
    "corrArray = np.random.multivariate_normal(mean, covarMatrix, lenCov)\n",
    "corrArray"
   ]
  },
  {
   "cell_type": "markdown",
   "id": "1bd94cd0-72a0-4d73-b213-f3521603c3af",
   "metadata": {},
   "source": [
    "#### c. Use np.random’s standard_normal function to create an array of uncorrelated random numbers. Use the following formula to create a correlated array of random numbers:"
   ]
  },
  {
   "cell_type": "code",
   "execution_count": 4,
   "id": "e5be8582-a863-42e7-85d6-543db8fc58f9",
   "metadata": {},
   "outputs": [
    {
     "data": {
      "text/plain": [
       "array([[-2.03816689e-01, -7.47670591e-03,  3.60656744e-01,\n",
       "         4.59655003e-01,  4.31808809e-01, -3.54717570e-01,\n",
       "         2.24432727e-04, -3.21020275e-01,  1.51676365e-01,\n",
       "        -6.22073816e-01],\n",
       "       [-3.44717581e-02,  2.27216225e-01,  2.05514903e+00,\n",
       "        -1.03956973e+00,  1.67038085e-01,  7.23009595e-02,\n",
       "         2.40088938e+00,  4.00705872e-01, -1.68722400e+00,\n",
       "        -1.49085460e+00],\n",
       "       [ 1.32971556e-03, -1.34403788e-01,  9.03407760e-02,\n",
       "         2.11489138e-02,  4.22968232e-02,  1.39214501e-01,\n",
       "        -1.66812110e-01, -1.36141859e-01, -9.32924906e-02,\n",
       "        -1.37476253e-01],\n",
       "       [ 4.28707328e-01, -6.47174006e-03,  5.95791658e-03,\n",
       "        -2.35423961e-01,  5.32957487e-01,  1.21582517e-01,\n",
       "        -3.14081654e-02,  7.06128288e-02, -5.51333443e-01,\n",
       "         3.62609634e-01],\n",
       "       [ 1.49869026e-01,  1.91369359e-01,  7.51118770e-03,\n",
       "        -2.19185976e-01,  9.69533697e-02, -6.65334263e-02,\n",
       "        -1.65315661e-01, -6.27510778e-02, -3.76520236e-01,\n",
       "         1.21495579e-01],\n",
       "       [ 1.00456177e-01,  8.80324157e-01,  6.14839805e-01,\n",
       "        -1.86880324e+00,  7.36365309e-01, -1.08783234e-01,\n",
       "         1.83853973e+00, -7.79572295e-03, -3.47436879e+00,\n",
       "        -1.17880889e+00],\n",
       "       [ 1.36920059e-01,  2.77339595e-01,  2.10976903e-01,\n",
       "         2.86444985e-02,  8.80771643e-01, -3.72812956e-01,\n",
       "         6.69896253e-02, -2.48770714e-01, -6.79327099e-01,\n",
       "        -1.02817403e-01],\n",
       "       [-1.05576199e+00, -7.75933630e-01,  8.12772597e-01,\n",
       "         1.21741117e+00, -1.39229345e-01, -3.62618549e-01,\n",
       "        -1.62076150e-01, -5.50466169e-01,  1.20527976e+00,\n",
       "        -1.33226972e+00],\n",
       "       [ 8.95120514e-01, -8.77864436e-01,  5.81624349e-02,\n",
       "         1.16805155e+00,  1.22049743e+00, -2.46367411e-02,\n",
       "        -1.76546747e+00, -2.52140040e-01,  1.99596078e+00,\n",
       "        -5.78950131e-01],\n",
       "       [-1.03106764e+00, -5.62763776e-01,  1.12797527e+00,\n",
       "         6.29030727e-01, -2.28368160e-01, -5.02845671e-01,\n",
       "        -3.01938644e-01, -2.66129021e-01,  1.19721756e+00,\n",
       "        -9.07512499e-01]])"
      ]
     },
     "execution_count": 4,
     "metadata": {},
     "output_type": "execute_result"
    }
   ],
   "source": [
    "# Derive uncorr for a matrix of size (10 x 10):\n",
    "uncorr = np.random.standard_normal(100) # Still just a list of len = 100.\n",
    "uncorr = np.resize(uncorr, (10, 10)) # Create 10 x 10 matrix from the list above\n",
    "# uncorr\n",
    "\n",
    "# Cholesky decomposition\n",
    "L = np.linalg.cholesky(covarMatrix) # per formula\n",
    "\n",
    "# Correlated array of random numbers\n",
    "corr = np.dot(L, uncorr) # per formula\n",
    "\n",
    "corr # LinAlgError: Matrix is not positive definite depending on rng"
   ]
  }
 ],
 "metadata": {
  "kernelspec": {
   "display_name": "Python 3",
   "language": "python",
   "name": "python3"
  },
  "language_info": {
   "codemirror_mode": {
    "name": "ipython",
    "version": 3
   },
   "file_extension": ".py",
   "mimetype": "text/x-python",
   "name": "python",
   "nbconvert_exporter": "python",
   "pygments_lexer": "ipython3",
   "version": "3.8.8"
  }
 },
 "nbformat": 4,
 "nbformat_minor": 5
}
