{
 "cells": [
  {
   "cell_type": "markdown",
   "id": "1285f98b-36e2-4d0a-ad82-f4d837c262e1",
   "metadata": {},
   "source": [
    "# 8.1.7 Financial Functions with Numpy/SciPy"
   ]
  },
  {
   "cell_type": "markdown",
   "id": "8ee7f0ba-7682-4092-bf98-99bb1e83c68b",
   "metadata": {},
   "source": [
    "######"
   ]
  },
  {
   "cell_type": "code",
   "execution_count": 1,
   "id": "a2a1b527-9fb3-4ada-98d3-568aa2b7b7b1",
   "metadata": {},
   "outputs": [],
   "source": [
    "# Initialize\n",
    "import numpy_financial as npf\n",
    "\n",
    "# Variables:\n",
    "rate = 0.05\n",
    "period = 120 # 10 years\n",
    "monthlyPayment = -100000"
   ]
  },
  {
   "cell_type": "markdown",
   "id": "46c1e585-e15b-4733-8376-5c2be5ee1962",
   "metadata": {},
   "source": [
    "#### I. Compute the present value for a given rate, number of periods, and monthly payment."
   ]
  },
  {
   "cell_type": "code",
   "execution_count": 2,
   "id": "b740e1f3-a30e-428c-81d0-81d61dcaee51",
   "metadata": {},
   "outputs": [
    {
     "data": {
      "text/plain": [
       "1994267.895394377"
      ]
     },
     "execution_count": 2,
     "metadata": {},
     "output_type": "execute_result"
    }
   ],
   "source": [
    "pv = npf.pv(rate, period, monthlyPayment)\n",
    "pv "
   ]
  },
  {
   "cell_type": "markdown",
   "id": "d30121af-b360-4f15-beb2-1a9908924e8f",
   "metadata": {},
   "source": [
    "#### II. Calculate the monthly payment for a given rate, number of periods, and present value."
   ]
  },
  {
   "cell_type": "code",
   "execution_count": 3,
   "id": "58d100ed-72c7-4d7b-9119-08c20ff35f10",
   "metadata": {},
   "outputs": [
    {
     "data": {
      "text/plain": [
       "-100000.0"
      ]
     },
     "execution_count": 3,
     "metadata": {},
     "output_type": "execute_result"
    }
   ],
   "source": [
    "npf.pmt(rate, period, pv)"
   ]
  },
  {
   "cell_type": "markdown",
   "id": "4d489cce-85ef-45e7-b612-ff7e15c787bb",
   "metadata": {},
   "source": [
    "#### III. Calculates the number of periods for a given rate, payment, and present value."
   ]
  },
  {
   "cell_type": "code",
   "execution_count": 4,
   "id": "8ae6c4f2-2b60-4585-a117-071931637fe4",
   "metadata": {},
   "outputs": [
    {
     "data": {
      "text/plain": [
       "array(120.)"
      ]
     },
     "execution_count": 4,
     "metadata": {},
     "output_type": "execute_result"
    }
   ],
   "source": [
    "npf.nper(rate, monthlyPayment, pv)"
   ]
  },
  {
   "cell_type": "markdown",
   "id": "cb9ee8e0-e55f-4325-976a-d912ab1c61b5",
   "metadata": {},
   "source": [
    "#### IV. Calculate the rate for a given number of periods, monthly payment, and present value."
   ]
  },
  {
   "cell_type": "code",
   "execution_count": 5,
   "id": "d762e8fd-d246-4eab-8e30-e7662786777a",
   "metadata": {},
   "outputs": [
    {
     "data": {
      "text/plain": [
       "-0.0"
      ]
     },
     "execution_count": 5,
     "metadata": {},
     "output_type": "execute_result"
    }
   ],
   "source": [
    "# npf.rate(period, monthlyPayment, pv) requires a future value\n",
    "\n",
    "# Calculate future value\n",
    "fv = npf.fv(rate, period, monthlyPayment, pv)\n",
    "fv"
   ]
  },
  {
   "cell_type": "code",
   "execution_count": 6,
   "id": "b647707c-ef02-4688-8b2f-e2493b5d63e6",
   "metadata": {},
   "outputs": [
    {
     "data": {
      "text/plain": [
       "0.05000000000010958"
      ]
     },
     "execution_count": 6,
     "metadata": {},
     "output_type": "execute_result"
    }
   ],
   "source": [
    "# Solve for rate\n",
    "rateNew = npf.rate(period, monthlyPayment, pv, fv)\n",
    "rateNew"
   ]
  }
 ],
 "metadata": {
  "kernelspec": {
   "display_name": "Python 3",
   "language": "python",
   "name": "python3"
  },
  "language_info": {
   "codemirror_mode": {
    "name": "ipython",
    "version": 3
   },
   "file_extension": ".py",
   "mimetype": "text/x-python",
   "name": "python",
   "nbconvert_exporter": "python",
   "pygments_lexer": "ipython3",
   "version": "3.8.8"
  }
 },
 "nbformat": 4,
 "nbformat_minor": 5
}
