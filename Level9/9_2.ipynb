{
 "cells": [
  {
   "cell_type": "markdown",
   "id": "f03d8eef-15b9-433e-bad1-23ad12615b72",
   "metadata": {},
   "source": [
    "# 9.2 Pandas Plotting: Histogram of 1,000,000 Normally Distributed Random Values"
   ]
  },
  {
   "cell_type": "markdown",
   "id": "8c1ec4e6-dc5d-4d50-a0fa-07c13c9f8e87",
   "metadata": {},
   "source": [
    "###### "
   ]
  },
  {
   "cell_type": "code",
   "execution_count": 1,
   "id": "4ce433ea-5f6a-40d2-8569-6e5ad221a251",
   "metadata": {},
   "outputs": [
    {
     "data": {
      "text/plain": [
       "array([ 0.17640523,  0.04001572,  0.0978738 , ..., -0.07972826,\n",
       "        0.08747561,  0.13718307])"
      ]
     },
     "execution_count": 1,
     "metadata": {},
     "output_type": "execute_result"
    }
   ],
   "source": [
    "# Import\n",
    "import numpy as np\n",
    "import pandas as pd\n",
    "\n",
    "# Set Seed\n",
    "np.random.seed(0)\n",
    "\n",
    "# Generate array of random numbers:\n",
    "normArray = np.random.normal(0, 0.1, 1000000)\n",
    "\n",
    "# Verify:\n",
    "# abs(0 == round(np.mean(normArray),0))\n",
    "\n",
    "normArray"
   ]
  },
  {
   "cell_type": "code",
   "execution_count": 2,
   "id": "27c5f45d-9abe-49ce-9a1d-3bcc741e3c57",
   "metadata": {},
   "outputs": [
    {
     "data": {
      "text/html": [
       "<div>\n",
       "<style scoped>\n",
       "    .dataframe tbody tr th:only-of-type {\n",
       "        vertical-align: middle;\n",
       "    }\n",
       "\n",
       "    .dataframe tbody tr th {\n",
       "        vertical-align: top;\n",
       "    }\n",
       "\n",
       "    .dataframe thead th {\n",
       "        text-align: right;\n",
       "    }\n",
       "</style>\n",
       "<table border=\"1\" class=\"dataframe\">\n",
       "  <thead>\n",
       "    <tr style=\"text-align: right;\">\n",
       "      <th></th>\n",
       "      <th>Random Values</th>\n",
       "    </tr>\n",
       "  </thead>\n",
       "  <tbody>\n",
       "    <tr>\n",
       "      <th>0</th>\n",
       "      <td>0.176405</td>\n",
       "    </tr>\n",
       "    <tr>\n",
       "      <th>1</th>\n",
       "      <td>0.040016</td>\n",
       "    </tr>\n",
       "    <tr>\n",
       "      <th>2</th>\n",
       "      <td>0.097874</td>\n",
       "    </tr>\n",
       "    <tr>\n",
       "      <th>3</th>\n",
       "      <td>0.224089</td>\n",
       "    </tr>\n",
       "    <tr>\n",
       "      <th>4</th>\n",
       "      <td>0.186756</td>\n",
       "    </tr>\n",
       "    <tr>\n",
       "      <th>...</th>\n",
       "      <td>...</td>\n",
       "    </tr>\n",
       "    <tr>\n",
       "      <th>999995</th>\n",
       "      <td>0.145591</td>\n",
       "    </tr>\n",
       "    <tr>\n",
       "      <th>999996</th>\n",
       "      <td>0.010902</td>\n",
       "    </tr>\n",
       "    <tr>\n",
       "      <th>999997</th>\n",
       "      <td>-0.079728</td>\n",
       "    </tr>\n",
       "    <tr>\n",
       "      <th>999998</th>\n",
       "      <td>0.087476</td>\n",
       "    </tr>\n",
       "    <tr>\n",
       "      <th>999999</th>\n",
       "      <td>0.137183</td>\n",
       "    </tr>\n",
       "  </tbody>\n",
       "</table>\n",
       "<p>1000000 rows × 1 columns</p>\n",
       "</div>"
      ],
      "text/plain": [
       "        Random Values\n",
       "0            0.176405\n",
       "1            0.040016\n",
       "2            0.097874\n",
       "3            0.224089\n",
       "4            0.186756\n",
       "...               ...\n",
       "999995       0.145591\n",
       "999996       0.010902\n",
       "999997      -0.079728\n",
       "999998       0.087476\n",
       "999999       0.137183\n",
       "\n",
       "[1000000 rows x 1 columns]"
      ]
     },
     "execution_count": 2,
     "metadata": {},
     "output_type": "execute_result"
    }
   ],
   "source": [
    "# Create df:\n",
    "normArrayFinal = pd.DataFrame(normArray, columns=['Random Values'])\n",
    "# normArrayFinal = normArrayFinal.columns=['Random Values']\n",
    "normArrayFinal"
   ]
  },
  {
   "cell_type": "code",
   "execution_count": 3,
   "id": "6fe8205c-aba9-42df-b950-04d5e72f036f",
   "metadata": {},
   "outputs": [
    {
     "data": {
      "text/plain": [
       "<AxesSubplot:>"
      ]
     },
     "execution_count": 3,
     "metadata": {},
     "output_type": "execute_result"
    },
    {
     "data": {
      "image/png": "[encoded data removed]",
      "text/plain": [
       "<Figure size 720x360 with 1 Axes>"
      ]
     },
     "metadata": {
      "needs_background": "light"
     },
     "output_type": "display_data"
    }
   ],
   "source": [
    "# Create histogram with multiple bins (1 of 5)\n",
    "normArrayFinal['Random Values'].hist(figsize=(10,5), bins=500, color = 'k') # bins = 500"
   ]
  },
  {
   "cell_type": "code",
   "execution_count": 4,
   "id": "22823772-6d67-4881-a3f3-24acf0cba048",
   "metadata": {},
   "outputs": [
    {
     "data": {
      "text/plain": [
       "<AxesSubplot:>"
      ]
     },
     "execution_count": 4,
     "metadata": {},
     "output_type": "execute_result"
    },
    {
     "data": {
      "image/png": "[encoded data removed]",
      "text/plain": [
       "<Figure size 720x360 with 1 Axes>"
      ]
     },
     "metadata": {
      "needs_background": "light"
     },
     "output_type": "display_data"
    }
   ],
   "source": [
    "# Create histogram with multiple bins (2 of 5)\n",
    "normArrayFinal['Random Values'].hist(figsize=(10,5), bins=1000, color = 'c') # bins = 1000"
   ]
  },
  {
   "cell_type": "code",
   "execution_count": 5,
   "id": "c126f804-551c-4129-a5de-ee61a3fad84d",
   "metadata": {},
   "outputs": [
    {
     "data": {
      "text/plain": [
       "<AxesSubplot:>"
      ]
     },
     "execution_count": 5,
     "metadata": {},
     "output_type": "execute_result"
    },
    {
     "data": {
      "image/png": "[encoded data removed]",
      "text/plain": [
       "<Figure size 720x360 with 1 Axes>"
      ]
     },
     "metadata": {
      "needs_background": "light"
     },
     "output_type": "display_data"
    }
   ],
   "source": [
    "# Create histogram with multiple bins (3 of 5)\n",
    "normArrayFinal['Random Values'].hist(figsize=(10,5), bins=100, color = 'r') # bins = 100"
   ]
  },
  {
   "cell_type": "code",
   "execution_count": 6,
   "id": "acdbeff0-0444-4146-a38e-766e033db89c",
   "metadata": {},
   "outputs": [
    {
     "data": {
      "text/plain": [
       "<AxesSubplot:>"
      ]
     },
     "execution_count": 6,
     "metadata": {},
     "output_type": "execute_result"
    },
    {
     "data": {
      "image/png": "[encoded data removed]",
      "text/plain": [
       "<Figure size 720x360 with 1 Axes>"
      ]
     },
     "metadata": {
      "needs_background": "light"
     },
     "output_type": "display_data"
    }
   ],
   "source": [
    "# Create histogram with multiple bins (4 of 5)\n",
    "normArrayFinal['Random Values'].hist(figsize=(10,5), bins=50, color = 'b') # bins = 50"
   ]
  },
  {
   "cell_type": "code",
   "execution_count": 7,
   "id": "3ab173da-df2b-4f2f-9589-8b36f7f0395b",
   "metadata": {},
   "outputs": [
    {
     "data": {
      "text/plain": [
       "<AxesSubplot:>"
      ]
     },
     "execution_count": 7,
     "metadata": {},
     "output_type": "execute_result"
    },
    {
     "data": {
      "image/png": "[encoded data removed]",
      "text/plain": [
       "<Figure size 720x360 with 1 Axes>"
      ]
     },
     "metadata": {
      "needs_background": "light"
     },
     "output_type": "display_data"
    }
   ],
   "source": [
    "# Create histogram with multiple bins (5 of 5)\n",
    "normArrayFinal['Random Values'].hist(figsize=(10,5), bins=20, color = 'g') # bins = 20"
   ]
  },
  {
   "cell_type": "markdown",
   "id": "a6202147-88df-43a3-a4cc-a980dc9a53ad",
   "metadata": {},
   "source": [
    "###### Q. Test with several different values for bins – how do different numbers of bins affect the shape of the chart?"
   ]
  },
  {
   "cell_type": "markdown",
   "id": "ada05a3e-66f2-4fc0-a777-627fe5813a60",
   "metadata": {},
   "source": [
    "##### A. More bins = SMOOTHER histogram. At some point though (e.g. at bins = 200+), increasing the bins smoothens the chart by a marginal amount."
   ]
  }
 ],
 "metadata": {
  "kernelspec": {
   "display_name": "Python 3",
   "language": "python",
   "name": "python3"
  },
  "language_info": {
   "codemirror_mode": {
    "name": "ipython",
    "version": 3
   },
   "file_extension": ".py",
   "mimetype": "text/x-python",
   "name": "python",
   "nbconvert_exporter": "python",
   "pygments_lexer": "ipython3",
   "version": "3.8.8"
  }
 },
 "nbformat": 4,
 "nbformat_minor": 5
}
